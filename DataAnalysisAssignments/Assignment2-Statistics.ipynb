{
 "cells": [
  {
   "cell_type": "code",
   "execution_count": 6,
   "id": "8b1d0233",
   "metadata": {},
   "outputs": [],
   "source": [
    "import numpy as np\n",
    "from scipy import stats\n",
    "import seaborn as sns"
   ]
  },
  {
   "cell_type": "markdown",
   "id": "285cad4c",
   "metadata": {},
   "source": [
    "EXERCISE 1. \n",
    "Suppose scores on exams in statistics are normally distributed with an unknown population mean and a population standard deviation of 3 points. A random sample of 36 scores is taken and gives a sample mean (sample  mean score) of 68. Find a confidence interval estimate for the population mean exam score (the mean score on all exams).\n",
    "Find a 90% confidence interval for the true (population) mean of statistics exam scores. \n"
   ]
  },
  {
   "cell_type": "code",
   "execution_count": null,
   "id": "9c69c6a8",
   "metadata": {},
   "outputs": [],
   "source": []
  },
  {
   "cell_type": "code",
   "execution_count": 47,
   "id": "178b8995",
   "metadata": {},
   "outputs": [],
   "source": [
    "sigma = 3, \n",
    "xbar = 68,\n",
    "n = 36\n",
    "z = 1.645 #for  ci = 90%"
   ]
  },
  {
   "cell_type": "code",
   "execution_count": 49,
   "id": "bf8b9cc8",
   "metadata": {},
   "outputs": [
    {
     "name": "stdout",
     "output_type": "stream",
     "text": [
      "[0.5]\n"
     ]
    }
   ],
   "source": [
    "sem = sigma/np.sqrt(n)\n",
    "print(sem)"
   ]
  },
  {
   "cell_type": "code",
   "execution_count": 50,
   "id": "1652111f",
   "metadata": {},
   "outputs": [
    {
     "name": "stdout",
     "output_type": "stream",
     "text": [
      "[0.8225]\n"
     ]
    }
   ],
   "source": [
    "moe = 1.645 * sem \n",
    "print(moe)"
   ]
  },
  {
   "cell_type": "code",
   "execution_count": 51,
   "id": "ea5157c4",
   "metadata": {},
   "outputs": [
    {
     "name": "stdout",
     "output_type": "stream",
     "text": [
      "[67.1775]\n"
     ]
    }
   ],
   "source": [
    "#lower  = xbar - z* (σ/√n)\n",
    "\n",
    "lower  = xbar - moe\n",
    "print(lower)"
   ]
  },
  {
   "cell_type": "code",
   "execution_count": 52,
   "id": "aae02916",
   "metadata": {},
   "outputs": [
    {
     "name": "stdout",
     "output_type": "stream",
     "text": [
      "[68.8225]\n"
     ]
    }
   ],
   "source": [
    "#upper = xbar + z* (σ/√n)\n",
    "upper  = xbar + moe\n",
    "print(upper)"
   ]
  },
  {
   "cell_type": "code",
   "execution_count": 53,
   "id": "ce2bed46",
   "metadata": {},
   "outputs": [
    {
     "name": "stdout",
     "output_type": "stream",
     "text": [
      "(array([67.1775]), array([68.8225]))\n"
     ]
    }
   ],
   "source": [
    "ci = (lower, upper)\n",
    "print(ci)"
   ]
  },
  {
   "cell_type": "code",
   "execution_count": 55,
   "id": "207d9231",
   "metadata": {},
   "outputs": [
    {
     "data": {
      "text/plain": [
       "(array([67.17757319]), array([68.82242681]))"
      ]
     },
     "execution_count": 55,
     "metadata": {},
     "output_type": "execute_result"
    }
   ],
   "source": [
    "#second solution \n",
    "stats.norm.interval(0.90, loc=xbar, scale=sem )"
   ]
  },
  {
   "cell_type": "code",
   "execution_count": null,
   "id": "7f6a9ff3",
   "metadata": {},
   "outputs": [],
   "source": []
  },
  {
   "cell_type": "markdown",
   "id": "e25c95fc",
   "metadata": {},
   "source": [
    "EXERCISE 2. \n",
    "What is the normal body temperature for healthy humans? A random sample of 130 healthy human body temperatures provided by Allen Shoemaker7 yielded 98.25 degrees and standard deviation 0.73 degrees. \n",
    "Give a 99% confidence interval for the average body temperature of healthy people.\n"
   ]
  },
  {
   "cell_type": "code",
   "execution_count": 56,
   "id": "c09c4c1b",
   "metadata": {},
   "outputs": [],
   "source": [
    "sigma = 0.73, \n",
    "xbar = 98.25,\n",
    "n = 130\n",
    "z = 2.576 #for  ci = 99%"
   ]
  },
  {
   "cell_type": "code",
   "execution_count": 57,
   "id": "26935393",
   "metadata": {},
   "outputs": [
    {
     "name": "stdout",
     "output_type": "stream",
     "text": [
      "[0.06402524]\n"
     ]
    }
   ],
   "source": [
    "sem = sigma/np.sqrt(n)\n",
    "print(sem)"
   ]
  },
  {
   "cell_type": "code",
   "execution_count": 58,
   "id": "8bfc7858",
   "metadata": {},
   "outputs": [
    {
     "name": "stdout",
     "output_type": "stream",
     "text": [
      "[0.16492901]\n"
     ]
    }
   ],
   "source": [
    "moe = 2.576 * sem \n",
    "print(moe)"
   ]
  },
  {
   "cell_type": "code",
   "execution_count": 59,
   "id": "aab47490",
   "metadata": {},
   "outputs": [
    {
     "data": {
      "text/plain": [
       "array([98.08507099])"
      ]
     },
     "execution_count": 59,
     "metadata": {},
     "output_type": "execute_result"
    }
   ],
   "source": [
    "#lower  = xbar - z* (σ/√n)\n",
    "lower  = xbar - moe\n",
    "lower"
   ]
  },
  {
   "cell_type": "code",
   "execution_count": 60,
   "id": "d83954c8",
   "metadata": {},
   "outputs": [
    {
     "data": {
      "text/plain": [
       "array([98.41492901])"
      ]
     },
     "execution_count": 60,
     "metadata": {},
     "output_type": "execute_result"
    }
   ],
   "source": [
    "#upper = xbar + z* (σ/√n)\n",
    "upper  = xbar + moe\n",
    "upper"
   ]
  },
  {
   "cell_type": "code",
   "execution_count": 61,
   "id": "15e630d4",
   "metadata": {},
   "outputs": [
    {
     "data": {
      "text/plain": [
       "(array([98.08507099]), array([98.41492901]))"
      ]
     },
     "execution_count": 61,
     "metadata": {},
     "output_type": "execute_result"
    }
   ],
   "source": [
    "ci = (lower, upper)\n",
    "ci"
   ]
  },
  {
   "cell_type": "code",
   "execution_count": 62,
   "id": "545a5fe5",
   "metadata": {},
   "outputs": [
    {
     "data": {
      "text/plain": [
       "(array([98.08508192]), array([98.41491808]))"
      ]
     },
     "execution_count": 62,
     "metadata": {},
     "output_type": "execute_result"
    }
   ],
   "source": [
    "#second solution \n",
    "stats.norm.interval(0.99, loc=xbar, scale=sem )"
   ]
  },
  {
   "cell_type": "code",
   "execution_count": null,
   "id": "35a6bc74",
   "metadata": {},
   "outputs": [],
   "source": []
  },
  {
   "cell_type": "markdown",
   "id": "91c480c1",
   "metadata": {},
   "source": [
    "EXERCISE 3. \n",
    "The administrators for a hospital wished to estimate the average number of days required for inpatient treatment of patients between the ages of 25 and 34. A random sample of 500 hospital patients between these ages produced a mean and standard deviation equal to 5.4 and 3.1 days, respectively.\n",
    "Construct a 95% confidence interval for the mean length of stay for the population of patients from which the sample was drawn.\n"
   ]
  },
  {
   "cell_type": "code",
   "execution_count": 63,
   "id": "9beb1767",
   "metadata": {},
   "outputs": [],
   "source": [
    "sigma = 3.1 \n",
    "xbar = 5.4\n",
    "n = 500\n",
    "z = 1.96 #for  ci = 95%"
   ]
  },
  {
   "cell_type": "code",
   "execution_count": 64,
   "id": "272e621c",
   "metadata": {},
   "outputs": [
    {
     "name": "stdout",
     "output_type": "stream",
     "text": [
      "0.13863621460498696\n"
     ]
    }
   ],
   "source": [
    "sem = sigma/np.sqrt(n)\n",
    "print(sem)"
   ]
  },
  {
   "cell_type": "code",
   "execution_count": 65,
   "id": "b2b8a799",
   "metadata": {},
   "outputs": [
    {
     "data": {
      "text/plain": [
       "(5.127617354510309, 5.672382645489692)"
      ]
     },
     "execution_count": 65,
     "metadata": {},
     "output_type": "execute_result"
    }
   ],
   "source": [
    "stats.t.interval(0.95, df=n-1, loc=xbar, scale=sem)"
   ]
  }
 ],
 "metadata": {
  "kernelspec": {
   "display_name": "Python 3 (ipykernel)",
   "language": "python",
   "name": "python3"
  },
  "language_info": {
   "codemirror_mode": {
    "name": "ipython",
    "version": 3
   },
   "file_extension": ".py",
   "mimetype": "text/x-python",
   "name": "python",
   "nbconvert_exporter": "python",
   "pygments_lexer": "ipython3",
   "version": "3.9.12"
  }
 },
 "nbformat": 4,
 "nbformat_minor": 5
}
