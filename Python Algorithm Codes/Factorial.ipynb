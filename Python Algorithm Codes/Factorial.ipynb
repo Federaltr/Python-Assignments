{
 "cells": [
  {
   "cell_type": "code",
   "execution_count": 27,
   "metadata": {},
   "outputs": [
    {
     "name": "stdout",
     "output_type": "stream",
     "text": [
      "120\n"
     ]
    }
   ],
   "source": [
    "x = int(input())\n",
    "sonuç = 1\n",
    "\n",
    "for i in range(1, x+1):\n",
    "    if i > 0:\n",
    "        sonuç = sonuç * i\n",
    "    else:\n",
    "        break\n",
    "print(sonuç)"
   ]
  },
  {
   "cell_type": "code",
   "execution_count": 26,
   "metadata": {},
   "outputs": [
    {
     "data": {
      "text/plain": [
       "120"
      ]
     },
     "execution_count": 26,
     "metadata": {},
     "output_type": "execute_result"
    }
   ],
   "source": [
    "def fact(x):\n",
    "  if(x < 2):\n",
    "    return 1\n",
    "  return x * fact (x - 1)\n",
    "\n",
    "fact(5)"
   ]
  },
  {
   "cell_type": "code",
   "execution_count": null,
   "metadata": {},
   "outputs": [],
   "source": []
  }
 ],
 "metadata": {
  "kernelspec": {
   "display_name": "Python 3.10.2 64-bit",
   "language": "python",
   "name": "python3"
  },
  "language_info": {
   "codemirror_mode": {
    "name": "ipython",
    "version": 3
   },
   "file_extension": ".py",
   "mimetype": "text/x-python",
   "name": "python",
   "nbconvert_exporter": "python",
   "pygments_lexer": "ipython3",
   "version": "3.10.2"
  },
  "orig_nbformat": 4,
  "vscode": {
   "interpreter": {
    "hash": "7f2268373c59de7c4cf8b7b218e988e8031541b7ae73002a3c029a60d52fa35d"
   }
  }
 },
 "nbformat": 4,
 "nbformat_minor": 2
}
